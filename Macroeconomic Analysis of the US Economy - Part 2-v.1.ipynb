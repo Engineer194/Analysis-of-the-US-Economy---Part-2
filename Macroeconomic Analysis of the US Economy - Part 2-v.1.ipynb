{
 "cells": [
  {
   "cell_type": "code",
   "execution_count": 1,
   "id": "bf4b9f18-53a7-46ba-911c-a5e9ae11e009",
   "metadata": {},
   "outputs": [],
   "source": [
    "# import libraries\n",
    "import pandas as pd\n",
    "import numpy as np\n",
    "# import seaborn as sns\n",
    "# import matplotlib.pyplot as plt"
   ]
  },
  {
   "cell_type": "markdown",
   "id": "74c178c7-67e0-436a-8c37-738b10078108",
   "metadata": {},
   "source": [
    "## Poject: <a style=\"color:purple;\">**Macroeconomic Analysis of the US Economy**</a> - part 2\n",
    "\n",
    "#### Author: @**engine**, Date: November 2024"
   ]
  },
  {
   "cell_type": "markdown",
   "id": "8fe1c460-61f6-429b-ab9a-520e6e6bb98a",
   "metadata": {},
   "source": [
    "### Abstract:\n",
    "TODO\n",
    "\n",
    "### 1. **Defining the problem and main assumptions**\n",
    "\n",
    "In the **first part** of this study, looking at the distribution of funds from the US budget, we did not see good prospects in the future. It is not invested in the development of the USA, but in the wars, their consequences and the interest on the loans taken.\n",
    "The share of interest payments on borrowed loans is also very large. The almost direct linear dependence of the expansion of the economy on inflation (printing money) and borrowing was also shown. The latter, since the dollar is a world currency, means printing money again. As a result of all that has been said so far, we can safely summarize that the American economy is addicted to printing new money. The trade balance is strongly negative with a worsening trend. Science is not a priority. If for some reason the printing of new money stops and/or the dollars of the world go \"home\" to the USA, we are waiting for \"Great Depression - 2\".\n",
    "\n",
    "From here, we can ask ourselves the following question: <a style=\"color:purple;\">**Can we use ML to predict approximately when the US economy will go into recession?**</a><br>The **second part** of the present study will be based on the answer to this question.\n",
    "\n",
    "There are **2 main theoretical assumptions** at play:<br>\n",
    "1. U.S. recessions exhibit markers / early warning signs.<br>\n",
    "There exist plenty of recession “signals” in the form of individual economic or market data series. While individually, these signals have limited information value, they may become more useful when combined together.\n",
    "2. Future recessions will be similar to historical recessions.<br>\n",
    "This assumption is a lot more shaky, but can be mitigated by choosing features that maintain significance despite the changing economic landscape. For example, focusing on manufacturing data may have been relevant historically, but may be less relevant going forward as the world goes digital."
   ]
  },
  {
   "cell_type": "markdown",
   "id": "dca420b8-36a1-4bf4-9274-9cd6859e9a38",
   "metadata": {},
   "source": [
    "**What Have Others Tried?**\n",
    "\n",
    " - **Guggenheim Partners** has 2 recession related indicators: a Recession Probability Model and a Recession Dashboard, both driven by a combination of economic and market indicators. They try to predict recession probabilities across 3 different time frames.\n",
    " - **New York FED** predicts recession probabilities. Its limitations are that it only provides a 12-month forecast, and it only relies on 1 variable (the spread between the 10-year and 3-month Treasury rates).\n",
    " - **Rabobank** has a recession probability model, but it is also only based on 1 variable (the spread between the 10-year and 1-year Treasury rates), and only covers one time period (17-months).\n",
    " - **Wells Fargo Economics** has a few recession probability models that use a combination of economic and market data. However, they only limit their forecast to a 6-month horizon. [1]"
   ]
  },
  {
   "cell_type": "markdown",
   "id": "18b80ef6-79bc-4946-8d16-965700003699",
   "metadata": {},
   "source": [
    "**Model Benchmarking / Comparison**\n",
    "\n",
    "Ideally, I would compare my model performance to each of the alternatives above. Currently, I cannot do this for the following reasons:\n",
    "\n",
    " - **Guggenheim model**: Model performance data is not publicly released.\n",
    " - **New York FED** model: Upon closer inspection, their model is built to answer the question “what is the probability that the U.S. will be in a recession X months from now?”, whereas my model is built to answer the question “what is the probability that the U.S. will be in a recession within the next X months?”.\n",
    " - **Rabobank model**: The same reason. Additionally, the Rabobank model covers a 17-month time period, whereas my model covers 6-month and 12-month time periods.\n",
    " - **Wells Fargo Economics** model: Model performance data is not publicly released."
   ]
  },
  {
   "cell_type": "markdown",
   "id": "72f7d296-22ae-4121-ac5b-4b9ba6c780d8",
   "metadata": {},
   "source": [
    "### 2. **Preparing the Data**\n",
    "\n",
    "#### 2.1 Criteria according to which the data for the present study were collected.\n",
    "\n",
    "Some things I had to consider when getting the data:\n",
    "\n",
    " - **Economic data are released at different frequencies** (weekly, monthly, quarterly, etc.). To time-match data points, I settled for only using data that could be sampled monthly. As a result, all predictions must be conducted at a monthly frequency. This means that GDP data, as it comes out on a quarterly basis, will be approximated to a monthly basis.\n",
    " - **Varying data history lengths**. Some data has been released since 1919, while other data only goes back a few years. This means I had to exclude potentially useful data that just didn’t have enough history.\n",
    " - **Speaking of history**, I needed enough data to encompass as many recessions as I could. In the end, the full data set included 8 recessions since 1966.\n",
    " - **Economic data gets revised often**. FRED (Federal Reserve Economic Data) does not provide the original figures. It only provides the revised figures (no matter how far after-the-fact those revisions are made).\n",
    " - **Rare-event prediction**: Recessions are rare.\n",
    " - **Small data set**: Because I am using economic data (which is updated at a frequency of months or quarters), I will only have a few hundred data points to work with.\n",
    " - For practical reasons, I used mostly **public domain data** available through **[FRED](https://fred.stlouisfed.org/)** and **[Yahoo Finance](https://finance.yahoo.com/)**. I did not use potentially useful data that is stuck behind a paywall, such as [The Conference Board Leading Economic Index](https://www.conference-board.org/topics/us-leading-indicators)."
   ]
  },
  {
   "cell_type": "markdown",
   "id": "0848dad8-42f5-4ef2-b252-c40a67430e5d",
   "metadata": {},
   "source": [
    "#### 2.2 Feature Selection.\r\n",
    "\r\n",
    "Some project-specific considerations for feature selection: <br> \r\n",
    "- **Curse of Dimensionality**. Since the data set is so small (only a few hundred data points), one cannot include too many features in the final model. Otherwise, the model will fail to generalize to out-of-sample data. Therefore, features must be carefully chosen for the incremental value that each feature provides.\r\n",
    "- **Domain knowledge is key**. Since the underlying process is a complex time series, automated feature selection methods have a high risk of over-fitting to prior data. Therefore, feature selection must be guided by a solid understanding of economic fundamentals."
   ]
  },
  {
   "cell_type": "markdown",
   "id": "175614b2-d97a-474e-83de-d1d4e22fbf18",
   "metadata": {},
   "source": [
    "**A general outline for feature-selection process**:\r\n",
    "\r\n",
    " - Define the data set on which to perform exploratory data analysis (Jan 1966 to Apr 1968, May 1968 to Sep 1977, Oct 1977 to Mar 1972) to ensure no intersection with cross-validation periods.\r\n",
    " - Organize potential features into buckets, based on economic / theoretical characteristics (domain knowledge).\r\n",
    " - Plot pairwise correlations between each individual feature and each output type (6-month ahead, 12-month ahead, 24-month ahead) using the exploratory data set only (no peeking ahead!).\r\n",
    " - Move sequentially from feature bucket to feature bucket, such that each bucket has at least one feature in the final data set. For tie-breakers, pick features that have low correlations to features that have already been “accepted” into the final data set.\r\n",
    "\r\n",
    "Here is how it went:"
   ]
  },
  {
   "cell_type": "markdown",
   "id": "cb21a3d4-7898-4d00-82b7-109503b51953",
   "metadata": {},
   "source": [
    "First, a sneak peek at the final feature list. Note that only 8 features made it to the final list:"
   ]
  },
  {
   "cell_type": "markdown",
   "id": "88ef36ec-7f46-466e-b6ea-71eb2a20ac8c",
   "metadata": {},
   "source": [
    "<table>\n",
    "  <caption>\n",
    "    Feature table\n",
    "  </caption>\n",
    "  <thead style=\"background-color: purple; text-align: left\">\n",
    "    <tr>\n",
    "      <th scope=\"col\" style=\"color: white\">Type</th>\n",
    "      <th scope=\"col\" style=\"color: white\">Base indicator</th>\n",
    "      <th scope=\"col\" style=\"color: white\">Index</th>     \n",
    "      <th scope=\"col\" style=\"color: white\">Modification</th>\n",
    "    </tr>\n",
    "  </thead>\n",
    "  <tbody style=\"text-align: left\">\n",
    "    <tr>\n",
    "      <th scope=\"row\">Market</th>\n",
    "      <td>Personal Consumption Expenditures</td>\n",
    "      <td>PCEPI</td>\n",
    "      <td>12 month change</td>\n",
    "    </tr>\n",
    "    <tr>\n",
    "      <th scope=\"row\">Market</th>\n",
    "      <td>Industrial Production Index</td>\n",
    "      <td>INDPRO</td>\n",
    "      <td>12 month change</td>\n",
    "    </tr>\n",
    "    <tr>\n",
    "      <th scope=\"row\">Stock Market</th>\n",
    "      <td>S&P 500 Index</td>\n",
    "      <td>SPY500</td>\n",
    "      <td>12 month change</td>\n",
    "    </tr>\n",
    "    <tr>\n",
    "      <th scope=\"row\">Bond Market</th>\n",
    "      <td>10 year Treasury Bond</td>\n",
    "      <td>TR10</td>\n",
    "      <td>12 month change</td>\n",
    "    </tr>\n",
    "    <tr>\n",
    "      <th scope=\"row\">Bond Market</th>\n",
    "      <td>Slope of the yield curve</td>\n",
    "      <td>T10YFF</td>\n",
    "      <td>12 month change</td>\n",
    "    </tr>\n",
    "      <tr>\n",
    "      <th scope=\"row\">Economic activity</th>\n",
    "      <td>Real Gross Domestic Product</td>\n",
    "      <td>GDPC1</td>\n",
    "      <td>12 month change</td>\n",
    "    </tr>\n",
    "    <tr>\n",
    "      <th scope=\"row\">Unemployment</th>\n",
    "      <td>Monthly Unemployment Rate</td>\n",
    "      <td>UNRATE</td>\n",
    "      <td>12 month change</td>\n",
    "    </tr>\n",
    "    <tr>\n",
    "      <th scope=\"row\">Economic activity</th>\n",
    "      <td>Composite Leading Indicator</td>\n",
    "      <td>CLI</td>\n",
    "      <td>12 month change</td>\n",
    "    </tr>\n",
    "  </tbody></table>"
   ]
  },
  {
   "cell_type": "markdown",
   "id": "0aff6c8d-f71e-47a3-8a0c-935f25eb0fa4",
   "metadata": {},
   "source": [
    "1. <a style=\"color:purple;\">**Real Gross Domestic Product**:</a><br>\n",
    "\n",
    "The inclusion of Real Gross Domestic Product (GDP) in the ML model for predicting recessions in the US economy can be justified in several ways:<br>\n",
    "**Economic Indicator:** GDP is one of the most important indicators of the health of the economy and is widely used to assess economic development. Changes in the value of GDP can be indicative of changes in economic activity and warn of an impending recession.<br>\n",
    "**Correlation with other factors:** GDP is correlated with many other economic indicators such as unemployment, inflation, investment and consumption. Including GDP in the model can help capture these complex interactions and improve the predictive power of the model.<br>\n",
    "**Long-Term Trends:** Research shows that changes in the value of GDP can be harbingers of future economic recessions. Including this key indicator in the model can help detect long-term trends and cycles in the economy.<br>\n",
    "**Financial Market:** Investors often use GDP data to make investment decisions. GDP forecasts based on the ML model can be useful for investors in assessing risk and profit opportunities.\n",
    "\n",
    "2. <a style=\"color:purple;\">**Industrial Production Index**:</a><br>\n",
    "\n",
    "The Industrial Production Index measures the output of the industrial sector, which is a key driver of economic growth. Changes in industrial production can signal shifts in overall economic activity and provide early warnings of potential recessions.\n",
    "\n",
    "3. <a style=\"color:purple;\">**Monthly Unemployment Rate**:</a><br>\n",
    "\n",
    "The monthly unemployment rate is a key indicator of labor market conditions and can provide insights into the overall health of the economy. Rising unemployment rates can signal economic weakness and potential recessions.\n",
    "\n",
    "4. <a style=\"color:purple;\">**S&P 500 Index**:</a><br>\n",
    "\n",
    "The S&P 500 Index is a widely followed benchmark for the performance of the US stock market. Changes in the S&P 500 Index can reflect investor sentiment and expectations for future economic growth.\n",
    "\n",
    "5. <a style=\"color:purple;\">**US 10-year Treasury Bond**:</a><br>\n",
    "\n",
    "The US 10-year Treasury bond yield is often seen as a safe-haven asset and can provide insights into investor expectations for future economic conditions. Changes in the yield curve can signal shifts in market sentiment and potential economic risks.\n",
    "\n",
    "6. <a style=\"color:purple;\">**Slope of the yield curve**:</a><br>\n",
    "\n",
    "The slope of the yield curve, particularly the difference between short-term and long-term interest rates, can provide insights into market expectations for future economic conditions. Inverted yield curves, where short-term rates are higher than long-term rates, have historically been a reliable predictor of recessions.\n",
    "\n",
    "7. <a style=\"color:purple;\">**Personal Consumption Expenditures**:</a><br>\n",
    "\n",
    "Personal consumption expenditures are a key component of GDP and can provide insights into consumer spending patterns and overall economic activity. Changes in personal consumption expenditures can signal shifts in consumer confidence and potential risks for the economy.\n",
    "\n",
    "8. <a style=\"color:purple;\">**Composite Leading Indicator**:</a><br>\n",
    "\n",
    "The CLI includes various components that may include new orders, building permits, stock prices, consumer confidence and other indicators that are sensitive to economic changes. Composite leading indicators are designed to provide early warnings of potential turning points in the business cycle. These indicators combine multiple economic variables to create a comprehensive measure of economic activity and can help to identify potential risks for the economy.\n",
    "\n",
    "In principle, more features can be included in the model, but there is no time continuous data for them since January 1962. Which would hurt the accuracy of the model."
   ]
  },
  {
   "cell_type": "markdown",
   "id": "a68cf25f-23c2-4fcd-a1bb-4d531063cac8",
   "metadata": {},
   "source": [
    "#### 2.3 Data collection.\n",
    "\n",
    "1. **Real Gross Domestic Product**:\n",
    "\n",
    "From this site **[FEDERAL RESERVE BANK of ST. LOUIS](https://fred.stlouisfed.org/series/GDPC1)** we download information for the period of our study: **Real Gross Domestic Product (GDPC1)**. [2]\n",
    "Units: <a style=\"color:purple;\">**Billions of Dollars**</a>, Seasonally Adjusted Annual Rate.\n",
    "Frequency: Quarterly.\n"
   ]
  },
  {
   "cell_type": "code",
   "execution_count": 21,
   "id": "8a76ce82-afe1-4a3a-be83-a16f660f8fb6",
   "metadata": {},
   "outputs": [
    {
     "data": {
      "text/html": [
       "<div>\n",
       "<style scoped>\n",
       "    .dataframe tbody tr th:only-of-type {\n",
       "        vertical-align: middle;\n",
       "    }\n",
       "\n",
       "    .dataframe tbody tr th {\n",
       "        vertical-align: top;\n",
       "    }\n",
       "\n",
       "    .dataframe thead th {\n",
       "        text-align: right;\n",
       "    }\n",
       "</style>\n",
       "<table border=\"1\" class=\"dataframe\">\n",
       "  <thead>\n",
       "    <tr style=\"text-align: right;\">\n",
       "      <th></th>\n",
       "      <th>date</th>\n",
       "      <th>gdp</th>\n",
       "    </tr>\n",
       "  </thead>\n",
       "  <tbody>\n",
       "    <tr>\n",
       "      <th>0</th>\n",
       "      <td>1962-01-01</td>\n",
       "      <td>3.758147e+12</td>\n",
       "    </tr>\n",
       "    <tr>\n",
       "      <th>1</th>\n",
       "      <td>1962-04-01</td>\n",
       "      <td>3.792149e+12</td>\n",
       "    </tr>\n",
       "    <tr>\n",
       "      <th>2</th>\n",
       "      <td>1962-07-01</td>\n",
       "      <td>3.838776e+12</td>\n",
       "    </tr>\n",
       "    <tr>\n",
       "      <th>3</th>\n",
       "      <td>1962-10-01</td>\n",
       "      <td>3.851421e+12</td>\n",
       "    </tr>\n",
       "    <tr>\n",
       "      <th>4</th>\n",
       "      <td>1963-01-01</td>\n",
       "      <td>3.893482e+12</td>\n",
       "    </tr>\n",
       "  </tbody>\n",
       "</table>\n",
       "</div>"
      ],
      "text/plain": [
       "         date           gdp\n",
       "0  1962-01-01  3.758147e+12\n",
       "1  1962-04-01  3.792149e+12\n",
       "2  1962-07-01  3.838776e+12\n",
       "3  1962-10-01  3.851421e+12\n",
       "4  1963-01-01  3.893482e+12"
      ]
     },
     "execution_count": 21,
     "metadata": {},
     "output_type": "execute_result"
    }
   ],
   "source": [
    "gdp = pd.read_csv('data/GDPC1.csv') # Read the CSV file\n",
    "gdp.columns = [\"date\", \"gdp\"]\n",
    "gdp['gdp'] = gdp['gdp'] * 1_000_000_000 # convert to dollars\n",
    "gdp.head() # Show all data.\n",
    "# __________ DataFrame (DF) with real data! __________"
   ]
  },
  {
   "cell_type": "markdown",
   "id": "b166b387-5305-40c0-9928-3040d6ff3a6e",
   "metadata": {},
   "source": [
    "### 5. **Conclusions**\n",
    "\n",
    "1. **TODO**"
   ]
  },
  {
   "cell_type": "markdown",
   "id": "352b6712-2bfb-44e0-9057-e8b96d5b99f2",
   "metadata": {},
   "source": [
    "### Resources:\n",
    "1. **Recession Prediction using Machine Learning** https://towardsdatascience.com/recession-prediction-using-machine-learning-de6eee16ca94\n",
    "2. **Real Gross Domestic Product** https://fred.stlouisfed.org/series/GDPC1\n",
    "3. **...**\n",
    "4. **...**\n",
    "5. **...**\n",
    "6. **...**\n",
    "7. **...**\n",
    "8. **...**\n",
    "9. **...**\n",
    "10. **...**\n",
    "11. **...**\n",
    "12. **...**\n",
    "13. **...**\n",
    "14. **...**"
   ]
  },
  {
   "cell_type": "code",
   "execution_count": null,
   "id": "1c81c96d-b7e9-4bb5-9250-42614eb0d1d5",
   "metadata": {},
   "outputs": [],
   "source": []
  }
 ],
 "metadata": {
  "kernelspec": {
   "display_name": "Python 3 (ipykernel)",
   "language": "python",
   "name": "python3"
  },
  "language_info": {
   "codemirror_mode": {
    "name": "ipython",
    "version": 3
   },
   "file_extension": ".py",
   "mimetype": "text/x-python",
   "name": "python",
   "nbconvert_exporter": "python",
   "pygments_lexer": "ipython3",
   "version": "3.12.4"
  }
 },
 "nbformat": 4,
 "nbformat_minor": 5
}
