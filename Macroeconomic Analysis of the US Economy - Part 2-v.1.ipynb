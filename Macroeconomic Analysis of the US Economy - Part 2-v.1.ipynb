{
 "cells": [
  {
   "cell_type": "code",
   "execution_count": 4,
   "id": "3bb6a207-d3d5-498d-b0a2-4c272d08db3b",
   "metadata": {},
   "outputs": [],
   "source": [
    "# import libraries\n",
    "import pandas as pd\n",
    "import numpy as np\n",
    "import seaborn as sns\n",
    "import matplotlib.pyplot as plt"
   ]
  },
  {
   "cell_type": "markdown",
   "id": "610f87b2-32dd-4d3a-b30a-39331dfdc071",
   "metadata": {},
   "source": [
    "    Total Debt as % of GDP << ................=> 1966 by Q1 to Q4 https://fred.stlouisfed.org/series/GFDEGDQ188S\n",
    "    Federal Funds Rate + .....................=> 1954-07-01\n",
    "    Industrial Production Index (Indpro) .....=> 1919-01-01 https://fred.stlouisfed.org/series/INDPRO\n",
    "    Non-farm payroll .........................=> 1939-01-01 https://fred.stlouisfed.org/series/PAYEMS\n",
    "    Unemployment Rate + ......................=> 1955-01-01\n",
    "    SPY500 + .................................=> 1922 https://www.investing.com/indices/us-spx-500-historical-data\n",
    "    10 year Treasury Bond -/+ ................=> 1962 https://www.macrotrends.net/2016/10-year-treasury-bond-rate-yield-chart\n",
    "    Slope of the yield curve -/+ .............=> 1962 https://fred.stlouisfed.org/series/T10YFF\n",
    "    CPI ......................................=> 1947-01-01\n",
    "    Петролен скок: Скокът на цените на суровия петрол, който се отразява на джоба на всяко домакинство, е един от малкото наистина надеждни индикатори за предстоящ спад. Цените на петрола се повишиха с близо $25 от най-ниските си стойности през лятото и надхвърлиха $95 за барел.\n",
    "https://fred.stlouisfed.org/series/WTISPLC\n",
    "    \n",
    "    Глобален спад: Останалата част от света може да повлече САЩ надолу. Втората по големина икономика, Китай, е затънала в криза с недвижимите имоти. В еврозоната кредитирането се свива с по-бързи темпове, отколкото в разгара на кризата с държавния дълг – знак, че вече стагниращият растеж ще се понижи. >> Global GDP > Years only!\r\n",
    "\r\n",
    "On Macrotrends only data starting  in1962 was available. I will therefore only consider data starting in 196\n",
    "Define the data set on which to perform exploratory data analysis (August 1955 to January 1972) to ensure no intersection with cross-validation periods.\n",
    "I would have loved to use a credit spread index of some type (investment grade or high yield) here, but could not find a credit spread index with data going back to 1955.\n",
    "America's national debt in dollars is generally viewed as less important than its proportion to the country’s gross domestic product (GDP) or the debt-to-GDP ratio because a country’s tax base grows alongside its economy. It increases revenue that the government can raise to service the debt. The U.S. national debt-to-GDP was 122.34% at the close of the first quarter of 2024..\n"
   ]
  },
  {
   "cell_type": "markdown",
   "id": "3d4c6a0e-c422-4954-b0b8-78e1bf5eb943",
   "metadata": {
    "editable": true,
    "slideshow": {
     "slide_type": ""
    },
    "tags": []
   },
   "source": [
    "## Poject: <a style=\"color:purple;\">**Macroeconomic Analysis of the US Economy**</a> - part 2\n",
    "\n",
    "### Author: @**engine**, Date: хх.хх.2024"
   ]
  },
  {
   "cell_type": "markdown",
   "id": "be741038-89fc-4ff5-809d-3aa64df54fa1",
   "metadata": {},
   "source": [
    "### Abstract:\n",
    "**TODO**\n",
    "\n",
    "### 1. **Defining the problem and main assumptions**\n",
    "\n",
    "In the **first part** of this study, looking at the distribution of funds from the US budget, we did not see good prospects in the future. It is not invested in the development of the USA, but in the wars, their consequences and the interest on the loans taken.\n",
    "The share of interest payments on borrowed loans is also very large. The almost direct linear dependence of the expansion of the economy on inflation (printing money) and borrowing was also shown. The latter, since the dollar is a world currency, means printing money again. As a result of all that has been said so far, we can safely summarize that the American economy is addicted to printing new money. The trade balance is strongly negative with a worsening trend. Science is not a priority. If for some reason the printing of new money stops and/or the dollars of the world go \"home\" to the USA, we are waiting for \"Great Depression - 2\".\n",
    "\n",
    "From here, we can ask ourselves the following question: <a style=\"color:purple;\">**Can we use ML to predict approximately when the US economy will go into recession?**</a><br>The **second part** of the present study will be based on the answer to this question.\n",
    "\n",
    "There are **2 main theoretical assumptions** at play:<br>l.\n"
   ]
  },
  {
   "cell_type": "markdown",
   "id": "cf24840a-045e-40ba-9536-82c4f92d9c9c",
   "metadata": {},
   "source": [
    "### 2. **Preparing the Data**\n",
    "\n",
    "#### 2.1 Criteria according to which the data for the present study were collected.\n",
    "\n",
    "**TODO**"
   ]
  },
  {
   "cell_type": "markdown",
   "id": "3e814701-a641-471c-869a-46e0df66032c",
   "metadata": {},
   "source": [
    "#### 2.2 GROSS DOMESTIC PRODUCT (GDP)\n",
    "\n",
    "From this site **[FEDERAL RESERVE BANK of ST. LOUIS](https://fred.stlouisfed.org/series/GDP)** we only download information for the period of our study: **Gross Domestic Product (GDP)**. [3]\n",
    "Units: <a style=\"color:purple;\">**Billions of Dollars**</a>, Seasonally Adjusted Annual Rate.\n",
    "Frequency: Quarterly."
   ]
  },
  {
   "cell_type": "code",
   "execution_count": 5,
   "id": "4620b6fd-6a0c-47e6-8d00-6fd8470301a4",
   "metadata": {
    "scrolled": true
   },
   "outputs": [
    {
     "data": {
      "text/html": [
       "<div>\n",
       "<style scoped>\n",
       "    .dataframe tbody tr th:only-of-type {\n",
       "        vertical-align: middle;\n",
       "    }\n",
       "\n",
       "    .dataframe tbody tr th {\n",
       "        vertical-align: top;\n",
       "    }\n",
       "\n",
       "    .dataframe thead th {\n",
       "        text-align: right;\n",
       "    }\n",
       "</style>\n",
       "<table border=\"1\" class=\"dataframe\">\n",
       "  <thead>\n",
       "    <tr style=\"text-align: right;\">\n",
       "      <th></th>\n",
       "      <th>date</th>\n",
       "      <th>gdp</th>\n",
       "    </tr>\n",
       "  </thead>\n",
       "  <tbody>\n",
       "    <tr>\n",
       "      <th>0</th>\n",
       "      <td>2022-07-01</td>\n",
       "      <td>2.599464e+13</td>\n",
       "    </tr>\n",
       "    <tr>\n",
       "      <th>1</th>\n",
       "      <td>2022-10-01</td>\n",
       "      <td>2.640840e+13</td>\n",
       "    </tr>\n",
       "    <tr>\n",
       "      <th>2</th>\n",
       "      <td>2023-01-01</td>\n",
       "      <td>2.681360e+13</td>\n",
       "    </tr>\n",
       "    <tr>\n",
       "      <th>3</th>\n",
       "      <td>2023-04-01</td>\n",
       "      <td>2.706301e+13</td>\n",
       "    </tr>\n",
       "    <tr>\n",
       "      <th>4</th>\n",
       "      <td>2023-07-01</td>\n",
       "      <td>2.761013e+13</td>\n",
       "    </tr>\n",
       "    <tr>\n",
       "      <th>5</th>\n",
       "      <td>2023-10-01</td>\n",
       "      <td>2.795700e+13</td>\n",
       "    </tr>\n",
       "    <tr>\n",
       "      <th>6</th>\n",
       "      <td>2024-01-01</td>\n",
       "      <td>2.826917e+13</td>\n",
       "    </tr>\n",
       "    <tr>\n",
       "      <th>7</th>\n",
       "      <td>2024-04-01</td>\n",
       "      <td>2.862915e+13</td>\n",
       "    </tr>\n",
       "  </tbody>\n",
       "</table>\n",
       "</div>"
      ],
      "text/plain": [
       "         date           gdp\n",
       "0  2022-07-01  2.599464e+13\n",
       "1  2022-10-01  2.640840e+13\n",
       "2  2023-01-01  2.681360e+13\n",
       "3  2023-04-01  2.706301e+13\n",
       "4  2023-07-01  2.761013e+13\n",
       "5  2023-10-01  2.795700e+13\n",
       "6  2024-01-01  2.826917e+13\n",
       "7  2024-04-01  2.862915e+13"
      ]
     },
     "execution_count": 5,
     "metadata": {},
     "output_type": "execute_result"
    }
   ],
   "source": [
    "gdp = pd.read_csv('data/GDP.csv') # Read the CSV file\n",
    "gdp.columns = [\"date\", \"gdp\"]\n",
    "gdp['gdp'] = gdp['gdp'] * 1_000_000_000 # convert to dollars\n",
    "gdp # Show all data.\n",
    "# __________ DataFrame (DF) with real data! __________"
   ]
  },
  {
   "cell_type": "markdown",
   "id": "9608a78c-86a9-4c33-ae15-e1abf6fa5aed",
   "metadata": {},
   "source": [
    "#### 2.3 CONSUMER PRICE INDEX (CPI)\n",
    "\n",
    "From this site **[FEDERAL RESERVE BANK of ST. LOUIS](https://fred.stlouisfed.org/series/CPIAUCSL)** we only download information for the period of our study:\n",
    "**Consumer Price Index (CPI)** for All Urban Consumers, All Items in U.S. City Average (CPIAUCSL). [4]"
   ]
  },
  {
   "cell_type": "code",
   "execution_count": 11,
   "id": "b3d846ae-9899-4249-9977-c55c1c3eb79c",
   "metadata": {},
   "outputs": [
    {
     "data": {
      "text/html": [
       "<div>\n",
       "<style scoped>\n",
       "    .dataframe tbody tr th:only-of-type {\n",
       "        vertical-align: middle;\n",
       "    }\n",
       "\n",
       "    .dataframe tbody tr th {\n",
       "        vertical-align: top;\n",
       "    }\n",
       "\n",
       "    .dataframe thead th {\n",
       "        text-align: right;\n",
       "    }\n",
       "</style>\n",
       "<table border=\"1\" class=\"dataframe\">\n",
       "  <thead>\n",
       "    <tr style=\"text-align: right;\">\n",
       "      <th></th>\n",
       "      <th>date</th>\n",
       "      <th>cpi</th>\n",
       "    </tr>\n",
       "  </thead>\n",
       "  <tbody>\n",
       "    <tr>\n",
       "      <th>0</th>\n",
       "      <td>2022-07-01</td>\n",
       "      <td>294.977</td>\n",
       "    </tr>\n",
       "    <tr>\n",
       "      <th>1</th>\n",
       "      <td>2022-08-01</td>\n",
       "      <td>295.209</td>\n",
       "    </tr>\n",
       "    <tr>\n",
       "      <th>2</th>\n",
       "      <td>2022-09-01</td>\n",
       "      <td>296.341</td>\n",
       "    </tr>\n",
       "    <tr>\n",
       "      <th>3</th>\n",
       "      <td>2022-10-01</td>\n",
       "      <td>297.863</td>\n",
       "    </tr>\n",
       "    <tr>\n",
       "      <th>4</th>\n",
       "      <td>2022-11-01</td>\n",
       "      <td>298.648</td>\n",
       "    </tr>\n",
       "  </tbody>\n",
       "</table>\n",
       "</div>"
      ],
      "text/plain": [
       "         date      cpi\n",
       "0  2022-07-01  294.977\n",
       "1  2022-08-01  295.209\n",
       "2  2022-09-01  296.341\n",
       "3  2022-10-01  297.863\n",
       "4  2022-11-01  298.648"
      ]
     },
     "execution_count": 11,
     "metadata": {},
     "output_type": "execute_result"
    }
   ],
   "source": [
    "cpi = pd.read_csv('data/Consumer Price Index.csv') # Read the CSV file\n",
    "cpi.columns = [\"date\", \"cpi\"]\n",
    "cpi.head() # Show first rows only..."
   ]
  },
  {
   "cell_type": "markdown",
   "id": "1422e6bf-327f-4c96-a6e8-3784f95865f8",
   "metadata": {},
   "source": [
    "#### 2.4 CONSUMER CONFIDENCE INDEX (CCI)\n",
    "\n",
    "From this site **[MacroVar](https://macrovar.com/united-states/consumer-confidence-index/)** we download information: **CONSUMER CONFIDENCE INDEX (CCI)**, United States Conference Board Consumer Confidence Analytics & Data. [5]\n",
    "Since the data is from 2014, we filter only those that are for our studied period."
   ]
  },
  {
   "cell_type": "code",
   "execution_count": 15,
   "id": "cd750bcc-d01d-4658-824c-96eccfcdbd94",
   "metadata": {},
   "outputs": [
    {
     "data": {
      "text/html": [
       "<div>\n",
       "<style scoped>\n",
       "    .dataframe tbody tr th:only-of-type {\n",
       "        vertical-align: middle;\n",
       "    }\n",
       "\n",
       "    .dataframe tbody tr th {\n",
       "        vertical-align: top;\n",
       "    }\n",
       "\n",
       "    .dataframe thead th {\n",
       "        text-align: right;\n",
       "    }\n",
       "</style>\n",
       "<table border=\"1\" class=\"dataframe\">\n",
       "  <thead>\n",
       "    <tr style=\"text-align: right;\">\n",
       "      <th></th>\n",
       "      <th>date</th>\n",
       "      <th>cci</th>\n",
       "    </tr>\n",
       "  </thead>\n",
       "  <tbody>\n",
       "    <tr>\n",
       "      <th>0</th>\n",
       "      <td>2022-06-30</td>\n",
       "      <td>98.7</td>\n",
       "    </tr>\n",
       "    <tr>\n",
       "      <th>1</th>\n",
       "      <td>2022-07-31</td>\n",
       "      <td>95.3</td>\n",
       "    </tr>\n",
       "    <tr>\n",
       "      <th>2</th>\n",
       "      <td>2022-08-31</td>\n",
       "      <td>103.6</td>\n",
       "    </tr>\n",
       "    <tr>\n",
       "      <th>3</th>\n",
       "      <td>2022-09-30</td>\n",
       "      <td>107.8</td>\n",
       "    </tr>\n",
       "    <tr>\n",
       "      <th>4</th>\n",
       "      <td>2022-10-31</td>\n",
       "      <td>102.5</td>\n",
       "    </tr>\n",
       "  </tbody>\n",
       "</table>\n",
       "</div>"
      ],
      "text/plain": [
       "        date    cci\n",
       "0 2022-06-30   98.7\n",
       "1 2022-07-31   95.3\n",
       "2 2022-08-31  103.6\n",
       "3 2022-09-30  107.8\n",
       "4 2022-10-31  102.5"
      ]
     },
     "execution_count": 15,
     "metadata": {},
     "output_type": "execute_result"
    }
   ],
   "source": [
    "# NO PERIOD SET !!! ----------------------------------------------------------------------- !!!!!!\n",
    "cci = pd.read_csv('data/CCI.csv') # Read the CSV file\n",
    "cci.columns = [\"date\", \"cci\"]\n",
    "# Convert the \"date\" column to datetime format\n",
    "cci['date'] = pd.to_datetime(cci['date'])\n",
    "# Filter the data for the period from 2022 to 2024\n",
    "filtered_cci = cci[(cci['date'] >= '2022-06-01') & (cci['date'] <= '2024-05-31')]\n",
    "del cci\n",
    "filtered_cci = filtered_cci.reset_index(drop=True)\n",
    "filtered_cci.head() # Show first rows only..."
   ]
  },
  {
   "cell_type": "markdown",
   "id": "d6344746-c67f-401c-b039-aba5457ff6f7",
   "metadata": {},
   "source": [
    "#### 2.5 INTEREST RATES\n",
    "\n",
    "From this site **[FEDERAL RESERVE BANK of ST. LOUIS](https://fred.stlouisfed.org/series/FEDFUNDS)** we only download information for the period of our study: **Federal Funds Effective Rate (FEDFUNDS)**. [6] The federal funds rate is the interest rate at which depository institutions trade federal funds (balances held at Federal Reserve Banks) with each other overnight. When a depository institution has surplus balances in its reserve account, it lends to other banks in need of larger balances. In simpler terms, a bank with excess cash, which is often referred to as liquidity, will lend to another bank that needs to quickly raise liquidity.\n",
    " 1. The rate that the borrowing institution pays to the lending institution is determined between the two banks; the weighted average rate for all of these types of negotiations is called the effective federal funds rate.\n",
    " 2. The effective federal funds rate is essentially determined by the market but is influenced by the Federal Reserve through open market operations to reach the federal funds rate target.\n",
    "\n",
    "The Federal Open Market Committee (FOMC) meets eight times a year to determine the federal funds target rate. As previously stated, this rate influences the effective federal funds rate through open market operations or by buying and selling of government bonds (government debt)."
   ]
  },
  {
   "cell_type": "code",
   "execution_count": 19,
   "id": "ac9c4998-9fde-48c3-acda-1f8d57cecb7f",
   "metadata": {},
   "outputs": [
    {
     "data": {
      "text/html": [
       "<div>\n",
       "<style scoped>\n",
       "    .dataframe tbody tr th:only-of-type {\n",
       "        vertical-align: middle;\n",
       "    }\n",
       "\n",
       "    .dataframe tbody tr th {\n",
       "        vertical-align: top;\n",
       "    }\n",
       "\n",
       "    .dataframe thead th {\n",
       "        text-align: right;\n",
       "    }\n",
       "</style>\n",
       "<table border=\"1\" class=\"dataframe\">\n",
       "  <thead>\n",
       "    <tr style=\"text-align: right;\">\n",
       "      <th></th>\n",
       "      <th>date</th>\n",
       "      <th>fed_funds</th>\n",
       "    </tr>\n",
       "  </thead>\n",
       "  <tbody>\n",
       "    <tr>\n",
       "      <th>0</th>\n",
       "      <td>2022-07-01</td>\n",
       "      <td>1.68</td>\n",
       "    </tr>\n",
       "    <tr>\n",
       "      <th>1</th>\n",
       "      <td>2022-08-01</td>\n",
       "      <td>2.33</td>\n",
       "    </tr>\n",
       "    <tr>\n",
       "      <th>2</th>\n",
       "      <td>2022-09-01</td>\n",
       "      <td>2.56</td>\n",
       "    </tr>\n",
       "    <tr>\n",
       "      <th>3</th>\n",
       "      <td>2022-10-01</td>\n",
       "      <td>3.08</td>\n",
       "    </tr>\n",
       "    <tr>\n",
       "      <th>4</th>\n",
       "      <td>2022-11-01</td>\n",
       "      <td>3.78</td>\n",
       "    </tr>\n",
       "  </tbody>\n",
       "</table>\n",
       "</div>"
      ],
      "text/plain": [
       "         date  fed_funds\n",
       "0  2022-07-01       1.68\n",
       "1  2022-08-01       2.33\n",
       "2  2022-09-01       2.56\n",
       "3  2022-10-01       3.08\n",
       "4  2022-11-01       3.78"
      ]
     },
     "execution_count": 19,
     "metadata": {},
     "output_type": "execute_result"
    }
   ],
   "source": [
    "fed_funds = pd.read_csv('data/FEDFUNDS.csv') # Read the CSV file\n",
    "fed_funds.columns = [\"date\", \"fed_funds\"]\n",
    "fed_funds.head()\n",
    "# ____ Display data in percentages!! _________ Show first rows only... !!!"
   ]
  },
  {
   "cell_type": "markdown",
   "id": "2eba68d7-e5be-4ba8-a425-57987b6917f3",
   "metadata": {},
   "source": [
    "#### 2.6 TRADE BALANCE\n",
    "\n",
    "From this site **[FEDERAL RESERVE BANK of ST. LOUIS](https://fred.stlouisfed.org/series/BOPGTB)** we only download information for the period of our study:\n",
    "**Trade Balance: Goods, Balance of Payments Basis (BOPGTB)**,\n",
    "Units: <a style=\"color:purple;\">**Millions of Dollars**</a>, Seasonally Adjusted. [7]"
   ]
  },
  {
   "cell_type": "code",
   "execution_count": 23,
   "id": "611d17bf-b308-40dc-89cf-f6c3483f5034",
   "metadata": {},
   "outputs": [
    {
     "data": {
      "text/html": [
       "<div>\n",
       "<style scoped>\n",
       "    .dataframe tbody tr th:only-of-type {\n",
       "        vertical-align: middle;\n",
       "    }\n",
       "\n",
       "    .dataframe tbody tr th {\n",
       "        vertical-align: top;\n",
       "    }\n",
       "\n",
       "    .dataframe thead th {\n",
       "        text-align: right;\n",
       "    }\n",
       "</style>\n",
       "<table border=\"1\" class=\"dataframe\">\n",
       "  <thead>\n",
       "    <tr style=\"text-align: right;\">\n",
       "      <th></th>\n",
       "      <th>date</th>\n",
       "      <th>trade_balance</th>\n",
       "    </tr>\n",
       "  </thead>\n",
       "  <tbody>\n",
       "    <tr>\n",
       "      <th>0</th>\n",
       "      <td>2022-05-01</td>\n",
       "      <td>-1.036630e+11</td>\n",
       "    </tr>\n",
       "    <tr>\n",
       "      <th>1</th>\n",
       "      <td>2022-06-01</td>\n",
       "      <td>-9.973500e+10</td>\n",
       "    </tr>\n",
       "    <tr>\n",
       "      <th>2</th>\n",
       "      <td>2022-07-01</td>\n",
       "      <td>-8.923600e+10</td>\n",
       "    </tr>\n",
       "    <tr>\n",
       "      <th>3</th>\n",
       "      <td>2022-08-01</td>\n",
       "      <td>-8.678200e+10</td>\n",
       "    </tr>\n",
       "    <tr>\n",
       "      <th>4</th>\n",
       "      <td>2022-09-01</td>\n",
       "      <td>-9.001500e+10</td>\n",
       "    </tr>\n",
       "  </tbody>\n",
       "</table>\n",
       "</div>"
      ],
      "text/plain": [
       "         date  trade_balance\n",
       "0  2022-05-01  -1.036630e+11\n",
       "1  2022-06-01  -9.973500e+10\n",
       "2  2022-07-01  -8.923600e+10\n",
       "3  2022-08-01  -8.678200e+10\n",
       "4  2022-09-01  -9.001500e+10"
      ]
     },
     "execution_count": 23,
     "metadata": {},
     "output_type": "execute_result"
    }
   ],
   "source": [
    "# NO PERIOD SET !!! ----------------------------------------------------------------------- !!!!!!\n",
    "tb = pd.read_csv('data/BOPGTB.csv') # Read the CSV file\n",
    "tb.columns = [\"date\", \"trade_balance\"]\n",
    "\n",
    "tb['trade_balance'] = tb['trade_balance'] * 1_000_000 # Convert to dollars!!\n",
    "tb.head()\n",
    "# __________ DF with real data! __________ Show first rows only..."
   ]
  },
  {
   "cell_type": "markdown",
   "id": "1636d708-9900-44ca-b69e-341b0607819c",
   "metadata": {},
   "source": [
    "#### 2.7 US DEBT\n",
    "\n",
    "From this site **[FiscalData](https://fiscaldata.treasury.gov/datasets/monthly-statement-public-debt/summary-of-treasury-securities-outstanding)** we download information: **U.S. Treasury Monthly Statement of the Public Debt (MSPD)**, Date Range (Record Date): 5 Years. <a style=\"color:purple;\">**Debt in Millions of Dollars!**</a> [8]\n",
    "\n",
    "The U.S. Treasury Monthly Statement of the Public Debt (MSPD) dataset details the Treasury's outstanding debts and the statutory debt limit. Debt is categorized by whether it is marketable or non-marketable and whether it is debt held by the public or debt held by government agencies. All amounts are reported in millions of U.S. dollars. Data is published on the fourth business day of each month, detailing the debt as of the end of the previous month."
   ]
  },
  {
   "cell_type": "code",
   "execution_count": 27,
   "id": "cbccddb3-d471-4978-8f67-b57ac0260c12",
   "metadata": {},
   "outputs": [
    {
     "data": {
      "text/html": [
       "<div>\n",
       "<style scoped>\n",
       "    .dataframe tbody tr th:only-of-type {\n",
       "        vertical-align: middle;\n",
       "    }\n",
       "\n",
       "    .dataframe tbody tr th {\n",
       "        vertical-align: top;\n",
       "    }\n",
       "\n",
       "    .dataframe thead th {\n",
       "        text-align: right;\n",
       "    }\n",
       "</style>\n",
       "<table border=\"1\" class=\"dataframe\">\n",
       "  <thead>\n",
       "    <tr style=\"text-align: right;\">\n",
       "      <th></th>\n",
       "      <th>date</th>\n",
       "      <th>type</th>\n",
       "      <th>total_debt</th>\n",
       "    </tr>\n",
       "  </thead>\n",
       "  <tbody>\n",
       "    <tr>\n",
       "      <th>13</th>\n",
       "      <td>2024-06-30</td>\n",
       "      <td>Total Public Debt Outstanding</td>\n",
       "      <td>3.483163e+07</td>\n",
       "    </tr>\n",
       "    <tr>\n",
       "      <th>27</th>\n",
       "      <td>2024-05-31</td>\n",
       "      <td>Total Public Debt Outstanding</td>\n",
       "      <td>3.466712e+07</td>\n",
       "    </tr>\n",
       "    <tr>\n",
       "      <th>41</th>\n",
       "      <td>2024-04-30</td>\n",
       "      <td>Total Public Debt Outstanding</td>\n",
       "      <td>3.461699e+07</td>\n",
       "    </tr>\n",
       "    <tr>\n",
       "      <th>55</th>\n",
       "      <td>2024-03-31</td>\n",
       "      <td>Total Public Debt Outstanding</td>\n",
       "      <td>3.458653e+07</td>\n",
       "    </tr>\n",
       "    <tr>\n",
       "      <th>69</th>\n",
       "      <td>2024-02-29</td>\n",
       "      <td>Total Public Debt Outstanding</td>\n",
       "      <td>3.447108e+07</td>\n",
       "    </tr>\n",
       "  </tbody>\n",
       "</table>\n",
       "</div>"
      ],
      "text/plain": [
       "          date                           type    total_debt\n",
       "13  2024-06-30  Total Public Debt Outstanding  3.483163e+07\n",
       "27  2024-05-31  Total Public Debt Outstanding  3.466712e+07\n",
       "41  2024-04-30  Total Public Debt Outstanding  3.461699e+07\n",
       "55  2024-03-31  Total Public Debt Outstanding  3.458653e+07\n",
       "69  2024-02-29  Total Public Debt Outstanding  3.447108e+07"
      ]
     },
     "execution_count": 27,
     "metadata": {},
     "output_type": "execute_result"
    }
   ],
   "source": [
    "# read the dataset using the compression zip\n",
    "debt = pd.read_csv('data/MSPD_SumSecty.zip',compression='zip')\n",
    "\n",
    "# We leave only the requested columns...\n",
    "keep_col = ['Record Date', 'Security Type Description', 'Total Public Debt Outstanding (in Millions)']\n",
    "debt_filtered = debt[keep_col]\n",
    "\n",
    "# We leave only the requested dates...\n",
    "debt_filtered = debt_filtered[(debt_filtered['Record Date'] >= '2022-07-01') & (debt_filtered['Record Date'] <= '2024-06-31')]\n",
    "\n",
    "# selecting rows based on condition\n",
    "debt_filtered = debt_filtered.loc[debt_filtered['Security Type Description'] == 'Total Public Debt Outstanding']\n",
    "\n",
    "# rename columns\n",
    "debt_filtered.columns = [\"date\", \"type\", 'total_debt']\n",
    "\n",
    "debt_filtered.head() # Show first rows only..."
   ]
  },
  {
   "cell_type": "markdown",
   "id": "b268eea6-3cca-43b0-8d03-a4e9ea19dec3",
   "metadata": {},
   "source": [
    "#### 2.8 UNEMPLOYMENT\n",
    "\n",
    "From this site **[FEDERAL RESERVE BANK of ST. LOUIS](https://fred.stlouisfed.org/series/LRHUTTTTUSM156S)** we only download information for the period of our study:  Infra-Annual Labor Statistics: **Monthly Unemployment Rate**. [9] Units: <a style=\"color:purple;\">**Percent**</a>, Seasonally Adjusted. Frequency: Monthly. "
   ]
  },
  {
   "cell_type": "code",
   "execution_count": 33,
   "id": "cee24d34-2693-4dc2-a780-65ea89eaea49",
   "metadata": {},
   "outputs": [
    {
     "data": {
      "text/html": [
       "<div>\n",
       "<style scoped>\n",
       "    .dataframe tbody tr th:only-of-type {\n",
       "        vertical-align: middle;\n",
       "    }\n",
       "\n",
       "    .dataframe tbody tr th {\n",
       "        vertical-align: top;\n",
       "    }\n",
       "\n",
       "    .dataframe thead th {\n",
       "        text-align: right;\n",
       "    }\n",
       "</style>\n",
       "<table border=\"1\" class=\"dataframe\">\n",
       "  <thead>\n",
       "    <tr style=\"text-align: right;\">\n",
       "      <th></th>\n",
       "      <th>date</th>\n",
       "      <th>unemployment</th>\n",
       "    </tr>\n",
       "  </thead>\n",
       "  <tbody>\n",
       "    <tr>\n",
       "      <th>0</th>\n",
       "      <td>2022-07-01</td>\n",
       "      <td>3.5</td>\n",
       "    </tr>\n",
       "    <tr>\n",
       "      <th>1</th>\n",
       "      <td>2022-08-01</td>\n",
       "      <td>3.6</td>\n",
       "    </tr>\n",
       "    <tr>\n",
       "      <th>2</th>\n",
       "      <td>2022-09-01</td>\n",
       "      <td>3.5</td>\n",
       "    </tr>\n",
       "    <tr>\n",
       "      <th>3</th>\n",
       "      <td>2022-10-01</td>\n",
       "      <td>3.6</td>\n",
       "    </tr>\n",
       "    <tr>\n",
       "      <th>4</th>\n",
       "      <td>2022-11-01</td>\n",
       "      <td>3.6</td>\n",
       "    </tr>\n",
       "  </tbody>\n",
       "</table>\n",
       "</div>"
      ],
      "text/plain": [
       "         date  unemployment\n",
       "0  2022-07-01           3.5\n",
       "1  2022-08-01           3.6\n",
       "2  2022-09-01           3.5\n",
       "3  2022-10-01           3.6\n",
       "4  2022-11-01           3.6"
      ]
     },
     "execution_count": 33,
     "metadata": {},
     "output_type": "execute_result"
    }
   ],
   "source": [
    "unemployment = pd.read_csv('data/LRHUTTTTUSM.csv')\n",
    "unemployment.columns = [\"date\", \"unemployment\"]\n",
    "unemployment.head()\n",
    "# ____ Display data in percentages!! ______ Show first rows only..."
   ]
  },
  {
   "cell_type": "markdown",
   "id": "82cce44a-5a61-4075-abd2-e79de649ca8a",
   "metadata": {},
   "source": [
    "### 5. **Conclusions**\n",
    "\n",
    "1. **TODO**"
   ]
  },
  {
   "cell_type": "markdown",
   "id": "bdf509ff-7ad1-4791-8f1c-e047fd90d3fc",
   "metadata": {},
   "source": [
    "### Resources:\n",
    "1. **Recession Prediction using Machine Learning** https://towardsdatascience.com/recession-prediction-using-machine-learning-de6eee16ca94\n",
    "2. **...**\n",
    "3. **...**\n",
    "4. **...**\n",
    "5. **...**\n",
    "6. **...**\n",
    "7. **...**\n",
    "8. **...**\n",
    "9. **...**\n",
    "10. **...**\n",
    "11. **...**\n",
    "12. **...**\n",
    "13. **...**\n",
    "14. **...**\n",
    "15. **...**"
   ]
  },
  {
   "cell_type": "code",
   "execution_count": null,
   "id": "83972365-716e-4927-89dd-618436fa5c74",
   "metadata": {},
   "outputs": [],
   "source": []
  }
 ],
 "metadata": {
  "kernelspec": {
   "display_name": "Python 3 (ipykernel)",
   "language": "python",
   "name": "python3"
  },
  "language_info": {
   "codemirror_mode": {
    "name": "ipython",
    "version": 3
   },
   "file_extension": ".py",
   "mimetype": "text/x-python",
   "name": "python",
   "nbconvert_exporter": "python",
   "pygments_lexer": "ipython3",
   "version": "3.12.4"
  }
 },
 "nbformat": 4,
 "nbformat_minor": 5
}
